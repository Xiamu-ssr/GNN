{
 "cells": [
  {
   "cell_type": "code",
   "execution_count": 1,
   "metadata": {},
   "outputs": [],
   "source": [
    "# 导入相关库\n",
    "import typing\n",
    "import torch\n",
    "import torch.nn as nn\n",
    "import torch.nn.functional as F\n",
    "import torch_geometric.nn\n",
    "from torch_geometric.data import Data, DataLoader\n",
    "from torch_geometric.datasets import Planetoid\n",
    "from torch_geometric.nn import GCNConv, GATConv\n",
    "from model.SplineCNN import SplineCNN"
   ]
  },
  {
   "cell_type": "code",
   "execution_count": 2,
   "metadata": {},
   "outputs": [
    {
     "name": "stdout",
     "output_type": "stream",
     "text": [
      "device : cuda\n"
     ]
    }
   ],
   "source": [
    "# 定义超参数\n",
    "device = torch.device('cuda' if torch.cuda.is_available() else 'cpu')\n",
    "print(f\"device : {device}\")\n",
    "\n",
    "from torch_geometric.datasets import Planetoid\n",
    "dataset = Planetoid(root='./data/Cora', name='Cora')\n",
    "graph = dataset[0].to(device)"
   ]
  },
  {
   "cell_type": "code",
   "execution_count": 3,
   "metadata": {},
   "outputs": [
    {
     "name": "stdout",
     "output_type": "stream",
     "text": [
      "Data(x=[2708, 1433], edge_index=[2, 10556], y=[2708], train_mask=[2708], val_mask=[2708], test_mask=[2708])\n",
      "train num : 140\n",
      "val num : 500\n",
      "test num : 1000\n",
      "num classes : 7\n"
     ]
    }
   ],
   "source": [
    "print(graph)\n",
    "print(f\"train num : {graph.train_mask.sum()}\")\n",
    "print(f\"val num : {graph.val_mask.sum()}\")\n",
    "print(f\"test num : {graph.test_mask.sum()}\")\n",
    "print(f\"num classes : {dataset.num_classes}\")"
   ]
  },
  {
   "cell_type": "code",
   "execution_count": 4,
   "metadata": {},
   "outputs": [],
   "source": [
    "in_channels = dataset.num_features\n",
    "out_channels = dataset.num_classes"
   ]
  },
  {
   "cell_type": "code",
   "execution_count": 5,
   "metadata": {},
   "outputs": [],
   "source": [
    "epochs = 256 # 训练轮数\n",
    "lr = 0.01 # 学习率\n",
    "val_record_interval = 8"
   ]
  },
  {
   "cell_type": "code",
   "execution_count": 6,
   "metadata": {},
   "outputs": [],
   "source": [
    "model = SplineCNN(\n",
    "    in_channels=in_channels,\n",
    "    out_channels=out_channels,\n",
    "    ).to(device)\n",
    "optimizer = torch.optim.Adam(model.parameters(), lr = lr, weight_decay=5e-4)\n",
    "loss_func = nn.NLLLoss()\n",
    "m = nn.LogSoftmax(dim=1)"
   ]
  },
  {
   "cell_type": "code",
   "execution_count": 7,
   "metadata": {},
   "outputs": [
    {
     "ename": "RuntimeError",
     "evalue": "spline_conv() is missing value for argument 'pseudo'. Declaration: spline_conv(Tensor x, Tensor edge_index, Tensor pseudo, Tensor weight, Tensor kernel_size, Tensor is_open_spline, int degree=1, bool norm=True, Tensor? root_weight=None, Tensor? bias=None) -> Tensor",
     "output_type": "error",
     "traceback": [
      "\u001b[0;31m---------------------------------------------------------------------------\u001b[0m",
      "\u001b[0;31mRuntimeError\u001b[0m                              Traceback (most recent call last)",
      "Cell \u001b[0;32mIn[7], line 8\u001b[0m\n\u001b[1;32m      6\u001b[0m model\u001b[39m.\u001b[39mtrain()\n\u001b[1;32m      7\u001b[0m optimizer\u001b[39m.\u001b[39mzero_grad()\n\u001b[0;32m----> 8\u001b[0m out \u001b[39m=\u001b[39m model(graph)\n\u001b[1;32m      9\u001b[0m \u001b[39m# print(out.shape)\u001b[39;00m\n\u001b[1;32m     10\u001b[0m loss \u001b[39m=\u001b[39m loss_func(m(out[graph\u001b[39m.\u001b[39mtrain_mask]), graph\u001b[39m.\u001b[39my[graph\u001b[39m.\u001b[39mtrain_mask])\n",
      "File \u001b[0;32m~/Software/anaconda3/envs/pytorch/lib/python3.9/site-packages/torch/nn/modules/module.py:1194\u001b[0m, in \u001b[0;36mModule._call_impl\u001b[0;34m(self, *input, **kwargs)\u001b[0m\n\u001b[1;32m   1190\u001b[0m \u001b[39m# If we don't have any hooks, we want to skip the rest of the logic in\u001b[39;00m\n\u001b[1;32m   1191\u001b[0m \u001b[39m# this function, and just call forward.\u001b[39;00m\n\u001b[1;32m   1192\u001b[0m \u001b[39mif\u001b[39;00m \u001b[39mnot\u001b[39;00m (\u001b[39mself\u001b[39m\u001b[39m.\u001b[39m_backward_hooks \u001b[39mor\u001b[39;00m \u001b[39mself\u001b[39m\u001b[39m.\u001b[39m_forward_hooks \u001b[39mor\u001b[39;00m \u001b[39mself\u001b[39m\u001b[39m.\u001b[39m_forward_pre_hooks \u001b[39mor\u001b[39;00m _global_backward_hooks\n\u001b[1;32m   1193\u001b[0m         \u001b[39mor\u001b[39;00m _global_forward_hooks \u001b[39mor\u001b[39;00m _global_forward_pre_hooks):\n\u001b[0;32m-> 1194\u001b[0m     \u001b[39mreturn\u001b[39;00m forward_call(\u001b[39m*\u001b[39;49m\u001b[39minput\u001b[39;49m, \u001b[39m*\u001b[39;49m\u001b[39m*\u001b[39;49mkwargs)\n\u001b[1;32m   1195\u001b[0m \u001b[39m# Do not call functions when jit is used\u001b[39;00m\n\u001b[1;32m   1196\u001b[0m full_backward_hooks, non_full_backward_hooks \u001b[39m=\u001b[39m [], []\n",
      "File \u001b[0;32m~/Git/GNN/NodeClassification/model/SplineCNN.py:23\u001b[0m, in \u001b[0;36mSplineCNN.forward\u001b[0;34m(self, data)\u001b[0m\n\u001b[1;32m     20\u001b[0m edge_index \u001b[39m=\u001b[39m data\u001b[39m.\u001b[39medge_index\n\u001b[1;32m     22\u001b[0m \u001b[39m# 第一层SplineConv的前向传播，使用ReLU激活函数，并进行dropout操作（丢弃率为0.5）\u001b[39;00m\n\u001b[0;32m---> 23\u001b[0m x \u001b[39m=\u001b[39m spline_conv(x, edge_index)\n\u001b[1;32m     24\u001b[0m x \u001b[39m=\u001b[39m torch\u001b[39m.\u001b[39mrelu(x)\n\u001b[1;32m     25\u001b[0m x \u001b[39m=\u001b[39m torch\u001b[39m.\u001b[39mnn\u001b[39m.\u001b[39mfunctional\u001b[39m.\u001b[39mdropout(x, p\u001b[39m=\u001b[39m\u001b[39m0.5\u001b[39m)\n",
      "\u001b[0;31mRuntimeError\u001b[0m: spline_conv() is missing value for argument 'pseudo'. Declaration: spline_conv(Tensor x, Tensor edge_index, Tensor pseudo, Tensor weight, Tensor kernel_size, Tensor is_open_spline, int degree=1, bool norm=True, Tensor? root_weight=None, Tensor? bias=None) -> Tensor"
     ]
    }
   ],
   "source": [
    "loss_x = [e for e in range(epochs)]\n",
    "loss_record = []\n",
    "acc_x = [e for e in range(epochs) if e%val_record_interval == 0]\n",
    "acc_record = []\n",
    "for epoch in range(epochs):\n",
    "    model.train()\n",
    "    optimizer.zero_grad()\n",
    "    out = model(graph)\n",
    "    # print(out.shape)\n",
    "    loss = loss_func(m(out[graph.train_mask]), graph.y[graph.train_mask])\n",
    "    loss_record.append(loss.item())\n",
    "    loss.backward()\n",
    "    optimizer.step()\n",
    "    if epoch % val_record_interval == 0:\n",
    "        model.eval()\n",
    "        _, pred = model(graph).max(dim=1)\n",
    "        correct = float(pred[graph.val_mask].eq(graph.y[graph.val_mask]).sum().item())\n",
    "        acc = correct / graph.val_mask.sum().item()\n",
    "        acc_record.append(acc)"
   ]
  },
  {
   "cell_type": "code",
   "execution_count": null,
   "metadata": {},
   "outputs": [],
   "source": [
    "import matplotlib.pyplot as plt\n",
    "\n",
    "plt.subplot(1, 2, 1)\n",
    "plt.plot(loss_x, loss_record)\n",
    "plt.title('Loss')\n",
    "plt.xlabel('epoch')\n",
    "plt.ylabel('loss')\n",
    "\n",
    "plt.subplot(1, 2, 2)\n",
    "plt.plot(acc_x, acc_record)\n",
    "plt.title('Acc')\n",
    "plt.xlabel('epoch')\n",
    "plt.ylabel('acc')\n",
    "\n",
    "plt.show()"
   ]
  },
  {
   "cell_type": "code",
   "execution_count": null,
   "metadata": {},
   "outputs": [],
   "source": [
    "model.eval()\n",
    "_, pred = model(graph).max(dim=1)\n",
    "correct = float(pred[graph.test_mask].eq(graph.y[graph.test_mask]).sum().item())\n",
    "acc = correct / graph.test_mask.sum().item()\n",
    "# print(graph.test_mask.sum().item())\n",
    "print(f\"acc : {acc}\")"
   ]
  }
 ],
 "metadata": {
  "kernelspec": {
   "display_name": "Python 3 (ipykernel)",
   "language": "python",
   "name": "python3"
  },
  "language_info": {
   "codemirror_mode": {
    "name": "ipython",
    "version": 3
   },
   "file_extension": ".py",
   "mimetype": "text/x-python",
   "name": "python",
   "nbconvert_exporter": "python",
   "pygments_lexer": "ipython3",
   "version": "3.9.15"
  },
  "vscode": {
   "interpreter": {
    "hash": "f3a7255ad75ba34950561cc17b7843f365e4c170970721aecaffa9cda4fefe32"
   }
  }
 },
 "nbformat": 4,
 "nbformat_minor": 2
}
