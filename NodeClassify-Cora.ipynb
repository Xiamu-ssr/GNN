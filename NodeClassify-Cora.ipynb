{
 "cells": [
  {
   "cell_type": "code",
   "execution_count": 19,
   "metadata": {},
   "outputs": [],
   "source": [
    "# 导入相关库\n",
    "import typing\n",
    "import torch\n",
    "import torch.nn as nn\n",
    "import torch.nn.functional as F\n",
    "import torch_geometric.nn\n",
    "from torch_geometric.data import Data, DataLoader\n",
    "from torch_geometric.datasets import Planetoid\n",
    "from torch_geometric.nn import GCNConv"
   ]
  },
  {
   "cell_type": "code",
   "execution_count": 20,
   "metadata": {},
   "outputs": [
    {
     "name": "stdout",
     "output_type": "stream",
     "text": [
      "device : cuda\n"
     ]
    }
   ],
   "source": [
    "# 定义超参数\n",
    "device = torch.device('cuda' if torch.cuda.is_available() else 'cpu')\n",
    "print(f\"device : {device}\")\n",
    "\n",
    "from torch_geometric.datasets import Planetoid\n",
    "dataset = Planetoid(root='./data/Cora', name='Cora')\n",
    "graph = dataset[0].to(device)"
   ]
  },
  {
   "cell_type": "code",
   "execution_count": 21,
   "metadata": {},
   "outputs": [
    {
     "name": "stdout",
     "output_type": "stream",
     "text": [
      "Data(x=[2708, 1433], edge_index=[2, 10556], y=[2708], train_mask=[2708], val_mask=[2708], test_mask=[2708])\n",
      "train num : 140\n",
      "val num : 500\n",
      "test num : 1000\n",
      "num classes : 7\n"
     ]
    }
   ],
   "source": [
    "print(graph)\n",
    "print(f\"train num : {graph.train_mask.sum()}\")\n",
    "print(f\"val num : {graph.val_mask.sum()}\")\n",
    "print(f\"test num : {graph.test_mask.sum()}\")\n",
    "print(f\"num classes : {dataset.num_classes}\")"
   ]
  },
  {
   "cell_type": "code",
   "execution_count": 22,
   "metadata": {},
   "outputs": [],
   "source": [
    "in_channels = graph.x.shape[1]\n",
    "hidden_channels = 16 # 隐藏层维度\n",
    "out_channels = dataset.num_classes\n",
    "\n",
    "class Net(torch.nn.Module):\n",
    "    def __init__(self):\n",
    "        super(Net, self).__init__()\n",
    "        self.conv1 = GCNConv(in_channels, hidden_channels)\n",
    "        self.conv2 = GCNConv(hidden_channels, out_channels)\n",
    "    \n",
    "    def forward(self, x : Data.x, edge_index : Data.edge_index):\n",
    "        # x, edge_index = data.x, data.edge_index\n",
    "        x = self.conv1(x, edge_index)\n",
    "        x = F.relu(x)\n",
    "        x = F.dropout(x, training=self.training)\n",
    "        x = self.conv2(x, edge_index)\n",
    "        \n",
    "        return F.log_softmax(x, dim=1)"
   ]
  },
  {
   "cell_type": "code",
   "execution_count": 23,
   "metadata": {},
   "outputs": [],
   "source": [
    "epochs = 256 # 训练轮数\n",
    "lr = 0.01 # 学习率\n",
    "val_record_interval = 8"
   ]
  },
  {
   "cell_type": "code",
   "execution_count": 24,
   "metadata": {},
   "outputs": [],
   "source": [
    "model = torch_geometric.nn.GCN(\n",
    "    in_channels=in_channels, \n",
    "    hidden_channels=hidden_channels, \n",
    "    out_channels=out_channels, \n",
    "    num_layers=2, \n",
    "    dropout=5e-4,\n",
    "    ).to(device)\n",
    "# model = Net().to(device)\n",
    "optimizer = torch.optim.Adam(model.parameters(), lr = lr, weight_decay=5e-4)\n",
    "loss_func = nn.NLLLoss()\n",
    "m = nn.LogSoftmax(dim=1)"
   ]
  },
  {
   "cell_type": "code",
   "execution_count": 25,
   "metadata": {},
   "outputs": [],
   "source": [
    "# def train_step(\n",
    "#     model : torch.nn.Module,\n",
    "#     data : Data,\n",
    "#     optimizer : torch.optim.Optimizer,\n",
    "#     loss_fn : torch.nn.functional\n",
    "# ) -> typing.Tuple[float, float]:\n",
    "#     model.train()\n",
    "#     optimizer.zero_grad()\n",
    "#     mask = data.train_mask\n",
    "#     logits = model(data.x, data.edge_index)[mask]\n",
    "#     preds = logits.argmax(dim=1)\n",
    "#     y = data.y[mask]\n",
    "#     loss = loss_fn(logits, y)\n",
    "    \n",
    "#     acc = "
   ]
  },
  {
   "cell_type": "code",
   "execution_count": 26,
   "metadata": {},
   "outputs": [],
   "source": [
    "loss_x = [e for e in range(epochs)]\n",
    "loss_record = []\n",
    "acc_x = [e for e in range(epochs) if e%val_record_interval == 0]\n",
    "acc_record = []\n",
    "for epoch in range(epochs):\n",
    "    model.train()\n",
    "    optimizer.zero_grad()\n",
    "    out = model(graph.x, graph.edge_index)\n",
    "    # print(out.shape)\n",
    "    loss = loss_func(m(out[graph.train_mask]), graph.y[graph.train_mask])\n",
    "    loss_record.append(loss.item())\n",
    "    loss.backward()\n",
    "    optimizer.step()\n",
    "    if epoch % val_record_interval == 0:\n",
    "        model.eval()\n",
    "        _, pred = model(graph.x, graph.edge_index).max(dim=1)\n",
    "        correct = float(pred[graph.val_mask].eq(graph.y[graph.val_mask]).sum().item())\n",
    "        acc = correct / graph.val_mask.sum().item()\n",
    "        acc_record.append(acc)"
   ]
  },
  {
   "cell_type": "code",
   "execution_count": 27,
   "metadata": {},
   "outputs": [
    {
     "data": {
      "image/png": "[encoded data removed]",
      "text/plain": [
       "<Figure size 640x480 with 2 Axes>"
      ]
     },
     "metadata": {},
     "output_type": "display_data"
    }
   ],
   "source": [
    "import matplotlib.pyplot as plt\n",
    "\n",
    "plt.subplot(1, 2, 1)\n",
    "plt.plot(loss_x, loss_record)\n",
    "plt.title('Loss')\n",
    "plt.xlabel('epoch')\n",
    "plt.ylabel('loss')\n",
    "\n",
    "plt.subplot(1, 2, 2)\n",
    "plt.plot(acc_x, acc_record)\n",
    "plt.title('Acc')\n",
    "plt.xlabel('epoch')\n",
    "plt.ylabel('acc')\n",
    "\n",
    "plt.show()"
   ]
  },
  {
   "cell_type": "code",
   "execution_count": 28,
   "metadata": {},
   "outputs": [
    {
     "name": "stdout",
     "output_type": "stream",
     "text": [
      "acc : 0.815\n"
     ]
    }
   ],
   "source": [
    "model.eval()\n",
    "_, pred = model(graph.x, graph.edge_index).max(dim=1)\n",
    "correct = float(pred[graph.test_mask].eq(graph.y[graph.test_mask]).sum().item())\n",
    "acc = correct / graph.test_mask.sum().item()\n",
    "# print(graph.test_mask.sum().item())\n",
    "print(f\"acc : {acc}\")"
   ]
  }
 ],
 "metadata": {
  "kernelspec": {
   "display_name": "Python 3 (ipykernel)",
   "language": "python",
   "name": "python3"
  },
  "language_info": {
   "codemirror_mode": {
    "name": "ipython",
    "version": 3
   },
   "file_extension": ".py",
   "mimetype": "text/x-python",
   "name": "python",
   "nbconvert_exporter": "python",
   "pygments_lexer": "ipython3",
   "version": "3.9.15"
  },
  "vscode": {
   "interpreter": {
    "hash": "f3a7255ad75ba34950561cc17b7843f365e4c170970721aecaffa9cda4fefe32"
   }
  }
 },
 "nbformat": 4,
 "nbformat_minor": 2
}
